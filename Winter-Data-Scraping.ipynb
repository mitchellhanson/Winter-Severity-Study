{
 "cells": [
  {
   "cell_type": "code",
   "execution_count": null,
   "metadata": {},
   "outputs": [],
   "source": [
    "from selenium import webdriver\n",
    "from bs4 import BeautifulSoup\n",
    "from webdriver_manager.chrome import ChromeDriverManager\n",
    "from selenium.webdriver.chrome.service import Service\n",
    "import regex as re\n",
    "import requests\n",
    "import pandas as pd"
   ]
  },
  {
   "attachments": {},
   "cell_type": "markdown",
   "metadata": {},
   "source": [
    "Fetch HTML of Main Website"
   ]
  },
  {
   "cell_type": "code",
   "execution_count": null,
   "metadata": {},
   "outputs": [],
   "source": [
    "driver = webdriver.Chrome(ChromeDriverManager().install())\n",
    "driver.get(\"https://mrcc.purdue.edu/research/awssi/indexAwssi.jsp\")\n",
    "driver.find_element(\"id\", \"showStations\").click()\n",
    "soup = BeautifulSoup(driver.page_source)\n"
   ]
  },
  {
   "attachments": {},
   "cell_type": "markdown",
   "metadata": {},
   "source": [
    "Fetch Links of All End-of-Year Station Data"
   ]
  },
  {
   "cell_type": "code",
   "execution_count": null,
   "metadata": {},
   "outputs": [],
   "source": [
    "re.findall(r'rawssi([^\"]*)',str(soup.find_all(id=\"stations\")[0]))\n",
    "csv_links = []\n",
    "for i in re.findall(r'rawssi([^\"]*)',str(soup.find_all(id=\"stations\")[0])):\n",
    "    z = \"https://mrcc.purdue.edu/AWSSI/RAWSSI/rawssi\" + str(i)\n",
    "    csv_links.append(z)\n",
    "\n",
    "csv_links\n"
   ]
  },
  {
   "attachments": {},
   "cell_type": "markdown",
   "metadata": {},
   "source": [
    "Creating Main Dataframe"
   ]
  },
  {
   "cell_type": "code",
   "execution_count": null,
   "metadata": {},
   "outputs": [],
   "source": [
    "columns = [\"Season\", \"Start\", \"End\", \"Length\", \"Msng\", \"TMax\", \"TMin\", \"TempSc\", \"Sfall\", \"Sdepth\", \"SnowSc\", \"AWSSI\", \"Events\", \"RAWSSI\", \"Location\"]\n",
    "data = pd.DataFrame(columns=columns)\n",
    "for x in csv_links:\n",
    "    df = pd.read_csv(x, skiprows=1)\n",
    "    df2 = pd.read_csv(x)\n",
    "    df['Location']=re.findall(r'\"([^\"]*)' ,df2.columns[2])[0]\n",
    "    df.rename(columns={\"   Season\":\"Season\", \"     Start\":\"Start\", \"  Msng\": \"Msng\", \"  Tmax\": \"Tmax\", \"  Tmin\":\"Tmin\", \" Sfall\":\"Sfall\", \"       End\":\"End\", \" AWSSI\":\"AWSSI\"}, inplace=True)\n",
    "    data= pd.concat([data,df])"
   ]
  },
  {
   "cell_type": "code",
   "execution_count": null,
   "metadata": {},
   "outputs": [],
   "source": [
    "data.to_csv(\"Winter-Data.csv\")"
   ]
  }
 ],
 "metadata": {
  "kernelspec": {
   "display_name": "base",
   "language": "python",
   "name": "python3"
  },
  "language_info": {
   "codemirror_mode": {
    "name": "ipython",
    "version": 3
   },
   "file_extension": ".py",
   "mimetype": "text/x-python",
   "name": "python",
   "nbconvert_exporter": "python",
   "pygments_lexer": "ipython3",
   "version": "3.10.9"
  },
  "orig_nbformat": 4
 },
 "nbformat": 4,
 "nbformat_minor": 2
}
